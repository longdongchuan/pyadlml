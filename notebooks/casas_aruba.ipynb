{
 "cells": [
  {
   "cell_type": "code",
   "execution_count": 1,
   "metadata": {},
   "outputs": [],
   "source": [
    "import numpy as np"
   ]
  },
  {
   "cell_type": "code",
   "execution_count": 2,
   "metadata": {},
   "outputs": [],
   "source": [
    "import sys\n",
    "sys.path.append(\"..\")\n",
    "import pyadlml"
   ]
  },
  {
   "cell_type": "code",
   "execution_count": 3,
   "metadata": {},
   "outputs": [
    {
     "ename": "ImportError",
     "evalue": "cannot import name '_dev_rep1_to_rep2' from 'pyadlml.dataset._dataset' (../pyadlml/dataset/_dataset.py)",
     "output_type": "error",
     "traceback": [
      "\u001b[0;31m---------------------------------------------------------------------------\u001b[0m",
      "\u001b[0;31mImportError\u001b[0m                               Traceback (most recent call last)",
      "\u001b[0;32m<ipython-input-3-ec038dc51900>\u001b[0m in \u001b[0;36m<module>\u001b[0;34m\u001b[0m\n\u001b[1;32m      5\u001b[0m \u001b[0;34m\u001b[0m\u001b[0m\n\u001b[1;32m      6\u001b[0m \u001b[0;32mfrom\u001b[0m \u001b[0mpyadlml\u001b[0m\u001b[0;34m.\u001b[0m\u001b[0mdataset\u001b[0m\u001b[0;34m.\u001b[0m\u001b[0mutil\u001b[0m \u001b[0;32mimport\u001b[0m \u001b[0mfill_nans_ny_inverting_first_occurence\u001b[0m\u001b[0;34m\u001b[0m\u001b[0;34m\u001b[0m\u001b[0m\n\u001b[0;32m----> 7\u001b[0;31m \u001b[0;32mfrom\u001b[0m \u001b[0mpyadlml\u001b[0m\u001b[0;34m.\u001b[0m\u001b[0mdataset\u001b[0m\u001b[0;34m.\u001b[0m\u001b[0m_dataset\u001b[0m \u001b[0;32mimport\u001b[0m \u001b[0mData\u001b[0m\u001b[0;34m,\u001b[0m \u001b[0mcorrect_activity_overlap\u001b[0m\u001b[0;34m,\u001b[0m\u001b[0;31m \u001b[0m\u001b[0;31m\\\u001b[0m\u001b[0;34m\u001b[0m\u001b[0;34m\u001b[0m\u001b[0m\n\u001b[0m\u001b[1;32m      8\u001b[0m     \u001b[0m_dev_rep1_to_rep2\u001b[0m\u001b[0;34m,\u001b[0m \u001b[0mcorrect_device_ts_duplicates\u001b[0m\u001b[0;34m,\u001b[0m\u001b[0;31m \u001b[0m\u001b[0;31m\\\u001b[0m\u001b[0;34m\u001b[0m\u001b[0;34m\u001b[0m\u001b[0m\n\u001b[1;32m      9\u001b[0m     \u001b[0m_is_activity_overlapping\u001b[0m\u001b[0;34m,\u001b[0m \u001b[0mcorrect_device_rep3_ts_duplicates\u001b[0m\u001b[0;34m,\u001b[0m\u001b[0;31m \u001b[0m\u001b[0;31m\\\u001b[0m\u001b[0;34m\u001b[0m\u001b[0;34m\u001b[0m\u001b[0m\n",
      "\u001b[0;31mImportError\u001b[0m: cannot import name '_dev_rep1_to_rep2' from 'pyadlml.dataset._dataset' (../pyadlml/dataset/_dataset.py)"
     ]
    }
   ],
   "source": [
    "import numpy as np\n",
    "from pandas import DataFrame\n",
    "from pandas._libs.index import timedelta\n",
    "import pandas as pd\n",
    "\n",
    "from pyadlml.dataset.util import fill_nans_ny_inverting_first_occurence\n",
    "from pyadlml.dataset._dataset import Data, correct_activity_overlap, \\\n",
    "    _dev_rep1_to_rep2, correct_device_ts_duplicates, \\\n",
    "    _is_activity_overlapping, correct_device_rep3_ts_duplicates, \\\n",
    "    device_rep2_2_rep3, device_rep3_2_rep2, \\\n",
    "    ACTIVITY, VAL, START_TIME, END_TIME, TIME, NAME, DEVICE\n",
    "\n",
    "def _load_devices(device_fp):\n",
    "    sens_labels = {\n",
    "        1: 'Microwave', \n",
    "        5: 'Hall-Toilet door',\n",
    "        6: 'Hall-Bathroom door',\n",
    "        7: 'Cups cupboard',\n",
    "        8: 'Fridge',\n",
    "        9: 'Plates cupboard',\n",
    "        12: 'Frontdoor',\n",
    "        13: 'Dishwasher',\n",
    "        14: 'ToiletFlush',\n",
    "        17: 'Freezer',\n",
    "        18: 'Pans Cupboard',\n",
    "        20: 'Washingmachine',\n",
    "        23: 'Groceries Cupboard',\n",
    "        24: 'Hall-Bedroom door'\n",
    "    }\n",
    "    ide = 'id'\n",
    "    sens_data = pd.read_csv(device_fp,\n",
    "                sep=\"\\t\",\n",
    "                skiprows=23,\n",
    "                skipfooter=1,\n",
    "                parse_dates=True,\n",
    "                names=[START_TIME, END_TIME, ide, VAL],\n",
    "                engine='python' #to ignore warning for fallback to python engine because skipfooter\n",
    "                #dtype=[]\n",
    "                )\n",
    "\n",
    "\n",
    "    #k todo declare at initialization of dataframe\n",
    "    sens_data[START_TIME] = pd.to_datetime(sens_data[START_TIME])\n",
    "    sens_data[END_TIME] = pd.to_datetime(sens_data[END_TIME])\n",
    "    sens_data[VAL] = sens_data[VAL].astype('bool')\n",
    "\n",
    "    # replace numbers with the labels\n",
    "    sens_data[DEVICE] = sens_data[ide].map(sens_labels)\n",
    "    sens_data = sens_data.drop(ide, axis=1)\n",
    "    sens_data = sens_data.sort_values(START_TIME)\n",
    "    return sens_data\n",
    "\n",
    "def load(device_fp, activity_fp):\n",
    "    df_activities = _load_activities(activity_fp)\n",
    "\n",
    "    # correct overlapping activities as going to toilet is done in parallel\n",
    "    # for this dataset >:/\n",
    "    while _is_activity_overlapping(df_activities):\n",
    "        df_activities = correct_activity_overlap(df_activities)\n",
    "\n",
    "    df_dev = _load_devices(device_fp)\n",
    "    df_dev_rep1 = _dev_rep1_to_rep2(df_dev)\n",
    "    df_dev_rep2 = df_dev.copy()\n",
    "    \n",
    "    # correct possible duplicates for the devices\n",
    "    df_dev_rep1 = correct_device_ts_duplicates(df_dev_rep1)\n",
    "\n",
    "    # correct possible duplicates for representation 2\n",
    "    rep3 = device_rep2_2_rep3(df_dev_rep2)\n",
    "    cor_rep3 = correct_device_rep3_ts_duplicates(rep3)\n",
    "    df_dev_rep2 = device_rep3_2_rep2(cor_rep3)\n",
    "\n",
    "    data = Data(df_activities, df_dev_rep1)\n",
    "    data.df_dev_rep2 = df_dev_rep2\n",
    "    data.df_dev_rep3 = cor_rep3\n",
    "    return data\n",
    "\n"
   ]
  },
  {
   "cell_type": "code",
   "execution_count": 4,
   "metadata": {},
   "outputs": [],
   "source": [
    "data_path = \"/home/chris/code/adlml/datasets/casas_aruba/corrected_data.csv\"\n",
    "\n",
    "#data = kasteren.load(sensorData, activityData)\n"
   ]
  },
  {
   "cell_type": "code",
   "execution_count": 5,
   "metadata": {},
   "outputs": [],
   "source": [
    "df = pd.read_csv(data_path,\n",
    "                sep=\",\",\n",
    "                #parse_dates=True,\n",
    "                infer_datetime_format=True,\n",
    "                na_values=None,\n",
    "                names=[START_TIME, 'id', VAL, ACTIVITY],\n",
    "                engine='python' #to ignore warning for fallback to python engine because skipfooter\n",
    "                #dtyp\n",
    "                )\n",
    "df[START_TIME] = pd.to_datetime(df[START_TIME])"
   ]
  },
  {
   "cell_type": "code",
   "execution_count": 8,
   "metadata": {},
   "outputs": [],
   "source": [
    "df_act = _get_activity_df(df)\n",
    "\n"
   ]
  },
  {
   "cell_type": "code",
   "execution_count": 9,
   "metadata": {},
   "outputs": [
    {
     "ename": "NameError",
     "evalue": "name 'rep3' is not defined",
     "output_type": "error",
     "traceback": [
      "\u001b[0;31m---------------------------------------------------------------------------\u001b[0m",
      "\u001b[0;31mNameError\u001b[0m                                 Traceback (most recent call last)",
      "\u001b[0;32m<ipython-input-9-33697598e68d>\u001b[0m in \u001b[0;36m<module>\u001b[0;34m\u001b[0m\n\u001b[1;32m     29\u001b[0m     \u001b[0;31m#assert int(len(df_rep3)/2) == len(df), 'Somewhere two following events of the'\u001b[0m\u001b[0;34m\u001b[0m\u001b[0;34m\u001b[0m\u001b[0;34m\u001b[0m\u001b[0m\n\u001b[1;32m     30\u001b[0m     \u001b[0;32mreturn\u001b[0m \u001b[0mdf\u001b[0m\u001b[0;34m[\u001b[0m\u001b[0;34m[\u001b[0m\u001b[0;34m'start_time'\u001b[0m\u001b[0;34m,\u001b[0m \u001b[0;34m'end_time'\u001b[0m\u001b[0;34m,\u001b[0m \u001b[0;34m'val'\u001b[0m\u001b[0;34m,\u001b[0m \u001b[0;34m'device'\u001b[0m\u001b[0;34m]\u001b[0m\u001b[0;34m]\u001b[0m\u001b[0;34m\u001b[0m\u001b[0;34m\u001b[0m\u001b[0m\n\u001b[0;32m---> 31\u001b[0;31m \u001b[0mdevice_rep3_2_rep2\u001b[0m\u001b[0;34m(\u001b[0m\u001b[0mrep3\u001b[0m\u001b[0;34m)\u001b[0m\u001b[0;34m\u001b[0m\u001b[0;34m\u001b[0m\u001b[0m\n\u001b[0m",
      "\u001b[0;31mNameError\u001b[0m: name 'rep3' is not defined"
     ]
    }
   ],
   "source": [
    "def device_rep3_2_rep2(df_rep3):\n",
    "    \"\"\"\n",
    "    transforms a device representation 3 into 2\n",
    "    params: df: pd.DataFrame\n",
    "                rep3: col (time, device, val)\n",
    "                example row: [2008-02-25 00:20:14, Freezer, False]\n",
    "    returns: df: (pd.DataFrame)\n",
    "                rep2: columns are (start time, end_time, device)\n",
    "                example row: [2008-02-25 00:20:14, 2008-02-25 00:22:14, Freezer]         \n",
    "    \"\"\"\n",
    "    df = df_rep3.copy().reset_index()\n",
    "    df = df.sort_values('time')\n",
    "    df['ones'] = 1\n",
    "\n",
    "    df_start = df[df['val']]\n",
    "    df_end = df[~df['val']]\n",
    "\n",
    "    df_end.rename(columns={'time': 'end_time'}, inplace=True)\n",
    "    df_start.rename(columns={'time': 'start_time'}, inplace=True)\n",
    "   \n",
    "    df_end['pairs'] = df_end.groupby(['device'])['ones'].apply(lambda x: x.cumsum())\n",
    "    df_start['pairs'] = df_start.groupby(['device'])['ones'].apply(lambda x: x.cumsum())        \n",
    "    \n",
    "    \n",
    "    df = pd.merge(df_start, df_end, on=['pairs', 'device'])\n",
    "    df['val'] = True\n",
    "    df = df.sort_values('start_time')\n",
    "    \n",
    "    #assert int(len(df_rep3)/2) == len(df), 'Somewhere two following events of the'    \n",
    "    return df[['start_time', 'end_time', 'val', 'device']]\n",
    "device_rep3_2_rep2(rep3)"
   ]
  },
  {
   "cell_type": "code",
   "execution_count": null,
   "metadata": {},
   "outputs": [],
   "source": [
    "rep2 = "
   ]
  },
  {
   "cell_type": "code",
   "execution_count": 14,
   "metadata": {},
   "outputs": [
    {
     "name": "stdout",
     "output_type": "stream",
     "text": [
      "                              time device    val\n",
      "1564867 2011-05-23 00:47:17.505530   M003   True\n",
      "1564868 2011-05-23 00:47:22.304470   M003  False\n",
      "1564869 2011-05-23 00:47:57.755188   M003   True\n",
      "1564870 2011-05-23 00:48:00.224731   M003  False\n",
      "1564878 2011-05-23 01:51:36.426614   M003   True\n",
      "...                            ...    ...    ...\n",
      "1577697 2011-05-23 21:45:58.597750   M003   True\n",
      "1577698 2011-05-23 21:46:04.542391   M002  False\n",
      "1577699 2011-05-23 21:46:13.713594   M003  False\n",
      "1577700 2011-05-23 21:46:14.786178   M003   True\n",
      "1577701 2011-05-23 21:46:30.496566   M003  False\n",
      "\n",
      "[12516 rows x 3 columns]\n",
      "        device                       time    val\n",
      "0         M003 2010-11-04 00:03:50.209589   True\n",
      "1         M003 2010-11-04 00:03:57.399391  False\n",
      "15        M003 2010-11-04 02:32:33.351906   True\n",
      "16        M003 2010-11-04 02:32:38.895958  False\n",
      "20        M003 2010-11-04 03:42:21.823650   True\n",
      "...        ...                        ...    ...\n",
      "1719544   M002 2011-06-11 22:33:01.209214   True\n",
      "1719545   M003 2011-06-11 22:33:02.952009  False\n",
      "1719546   M002 2011-06-11 22:33:03.332876  False\n",
      "1719548   M003 2011-06-11 23:20:31.432636   True\n",
      "1719549   M003 2011-06-11 23:20:35.722380  False\n",
      "\n",
      "[1595987 rows x 3 columns]\n"
     ]
    },
    {
     "ename": "AssertionError",
     "evalue": "Time is not unique",
     "output_type": "error",
     "traceback": [
      "\u001b[0;31m---------------------------------------------------------------------------\u001b[0m",
      "\u001b[0;31mAssertionError\u001b[0m                            Traceback (most recent call last)",
      "\u001b[0;32m<ipython-input-14-18169509f6aa>\u001b[0m in \u001b[0;36m<module>\u001b[0;34m\u001b[0m\n\u001b[1;32m     27\u001b[0m \u001b[0;34m\u001b[0m\u001b[0m\n\u001b[1;32m     28\u001b[0m \u001b[0;31m#print(rep3.head())\u001b[0m\u001b[0;34m\u001b[0m\u001b[0;34m\u001b[0m\u001b[0;34m\u001b[0m\u001b[0m\n\u001b[0;32m---> 29\u001b[0;31m \u001b[0mcorrect_device_rep3_ts_duplicates\u001b[0m\u001b[0;34m(\u001b[0m\u001b[0mrep3\u001b[0m\u001b[0;34m)\u001b[0m\u001b[0;34m\u001b[0m\u001b[0;34m\u001b[0m\u001b[0m\n\u001b[0m",
      "\u001b[0;32m<ipython-input-14-18169509f6aa>\u001b[0m in \u001b[0;36mcorrect_device_rep3_ts_duplicates\u001b[0;34m(df)\u001b[0m\n\u001b[1;32m     21\u001b[0m     \u001b[0mdf\u001b[0m \u001b[0;34m=\u001b[0m \u001b[0mdf\u001b[0m\u001b[0;34m.\u001b[0m\u001b[0msort_values\u001b[0m\u001b[0;34m(\u001b[0m\u001b[0mTIME\u001b[0m\u001b[0;34m)\u001b[0m\u001b[0;34m\u001b[0m\u001b[0;34m\u001b[0m\u001b[0m\n\u001b[1;32m     22\u001b[0m     \u001b[0mprint\u001b[0m\u001b[0;34m(\u001b[0m\u001b[0mdf\u001b[0m\u001b[0;34m)\u001b[0m\u001b[0;34m\u001b[0m\u001b[0;34m\u001b[0m\u001b[0m\n\u001b[0;32m---> 23\u001b[0;31m     \u001b[0;32massert\u001b[0m \u001b[0mdf\u001b[0m\u001b[0;34m[\u001b[0m\u001b[0mTIME\u001b[0m\u001b[0;34m]\u001b[0m\u001b[0;34m.\u001b[0m\u001b[0mis_unique\u001b[0m\u001b[0;34m,\u001b[0m \u001b[0;34m'Time is not unique'\u001b[0m\u001b[0;34m\u001b[0m\u001b[0;34m\u001b[0m\u001b[0m\n\u001b[0m\u001b[1;32m     24\u001b[0m \u001b[0;34m\u001b[0m\u001b[0m\n\u001b[1;32m     25\u001b[0m     \u001b[0mdf\u001b[0m \u001b[0;34m=\u001b[0m \u001b[0mdf\u001b[0m\u001b[0;34m.\u001b[0m\u001b[0mset_index\u001b[0m\u001b[0;34m(\u001b[0m\u001b[0mTIME\u001b[0m\u001b[0;34m)\u001b[0m\u001b[0;34m\u001b[0m\u001b[0;34m\u001b[0m\u001b[0m\n",
      "\u001b[0;31mAssertionError\u001b[0m: Time is not unique"
     ]
    }
   ],
   "source": [
    "def correct_device_rep3_ts_duplicates(df):\n",
    "    \"\"\"\n",
    "    \"\"\"\n",
    "    \n",
    "    dup_mask = df.duplicated(subset=[TIME], keep=False)\n",
    "    duplicates = df[dup_mask]\n",
    "    print(duplicates)\n",
    "    uniques = df[~dup_mask]\n",
    "\n",
    "    # for every pair of duplicates add a millisecond on the second one\n",
    "    duplicates = duplicates.reset_index(drop=False)\n",
    "    s = duplicates['time'] + pd.Timedelta(milliseconds=1)\n",
    "    mask = (duplicates.index % 2 == 0) # every second index\n",
    "    duplicates['time'] = duplicates['time'].where(mask, s)\n",
    "    duplicates = duplicates.set_index('index')\n",
    "\n",
    "    # concatenate and sort the dataframe \n",
    "    df = pd.concat([duplicates, uniques], sort=True)\n",
    "    \n",
    "    # set the time as index again\n",
    "    df = df.sort_values(TIME)\n",
    "    print(df)\n",
    "    assert df[TIME].is_unique, 'Time is not unique'\n",
    "\n",
    "    df = df.set_index(TIME)\n",
    "    return df\n",
    "\n",
    "#print(rep3.head())\n",
    "correct_device_rep3_ts_duplicates(rep3)"
   ]
  },
  {
   "cell_type": "code",
   "execution_count": 10,
   "metadata": {},
   "outputs": [
    {
     "ename": "AssertionError",
     "evalue": "Time is not unique",
     "output_type": "error",
     "traceback": [
      "\u001b[0;31m---------------------------------------------------------------------------\u001b[0m",
      "\u001b[0;31mAssertionError\u001b[0m                            Traceback (most recent call last)",
      "\u001b[0;32m<ipython-input-10-7d4e358a004c>\u001b[0m in \u001b[0;36m<module>\u001b[0;34m\u001b[0m\n\u001b[1;32m      1\u001b[0m \u001b[0mdf_dev\u001b[0m \u001b[0;34m=\u001b[0m \u001b[0m_get_devices_df\u001b[0m\u001b[0;34m(\u001b[0m\u001b[0mdf\u001b[0m\u001b[0;34m)\u001b[0m\u001b[0;34m\u001b[0m\u001b[0;34m\u001b[0m\u001b[0m\n\u001b[1;32m      2\u001b[0m \u001b[0mrep3\u001b[0m \u001b[0;34m=\u001b[0m \u001b[0mdf_dev\u001b[0m\u001b[0;34m.\u001b[0m\u001b[0mcopy\u001b[0m\u001b[0;34m(\u001b[0m\u001b[0;34m)\u001b[0m\u001b[0;34m\u001b[0m\u001b[0;34m\u001b[0m\u001b[0m\n\u001b[0;32m----> 3\u001b[0;31m \u001b[0mcor_rep3\u001b[0m \u001b[0;34m=\u001b[0m \u001b[0mcorrect_device_rep3_ts_duplicates\u001b[0m\u001b[0;34m(\u001b[0m\u001b[0mrep3\u001b[0m\u001b[0;34m)\u001b[0m\u001b[0;34m\u001b[0m\u001b[0;34m\u001b[0m\u001b[0m\n\u001b[0m\u001b[1;32m      4\u001b[0m \u001b[0;31m#rep1 = _dev_rep1_to_rep2(df_dev)\u001b[0m\u001b[0;34m\u001b[0m\u001b[0;34m\u001b[0m\u001b[0;34m\u001b[0m\u001b[0m\n\u001b[1;32m      5\u001b[0m \u001b[0;31m#rep3 = device_rep2_2_rep3(rep2)\u001b[0m\u001b[0;34m\u001b[0m\u001b[0;34m\u001b[0m\u001b[0;34m\u001b[0m\u001b[0m\n",
      "\u001b[0;32m~/Desktop/code/adlml/pyadlml/pyadlml/dataset/_dataset.py\u001b[0m in \u001b[0;36mcorrect_device_rep3_ts_duplicates\u001b[0;34m(df)\u001b[0m\n\u001b[1;32m    305\u001b[0m     \u001b[0;31m# set the time as index again\u001b[0m\u001b[0;34m\u001b[0m\u001b[0;34m\u001b[0m\u001b[0;34m\u001b[0m\u001b[0m\n\u001b[1;32m    306\u001b[0m     \u001b[0mdf\u001b[0m \u001b[0;34m=\u001b[0m \u001b[0mdf\u001b[0m\u001b[0;34m.\u001b[0m\u001b[0msort_values\u001b[0m\u001b[0;34m(\u001b[0m\u001b[0mTIME\u001b[0m\u001b[0;34m)\u001b[0m\u001b[0;34m\u001b[0m\u001b[0;34m\u001b[0m\u001b[0m\n\u001b[0;32m--> 307\u001b[0;31m     \u001b[0;32massert\u001b[0m \u001b[0mdf\u001b[0m\u001b[0;34m[\u001b[0m\u001b[0mTIME\u001b[0m\u001b[0;34m]\u001b[0m\u001b[0;34m.\u001b[0m\u001b[0mis_unique\u001b[0m\u001b[0;34m,\u001b[0m \u001b[0;34m'Time is not unique'\u001b[0m\u001b[0;34m\u001b[0m\u001b[0;34m\u001b[0m\u001b[0m\n\u001b[0m\u001b[1;32m    308\u001b[0m \u001b[0;34m\u001b[0m\u001b[0m\n\u001b[1;32m    309\u001b[0m     \u001b[0mdf\u001b[0m \u001b[0;34m=\u001b[0m \u001b[0mdf\u001b[0m\u001b[0;34m.\u001b[0m\u001b[0mset_index\u001b[0m\u001b[0;34m(\u001b[0m\u001b[0mTIME\u001b[0m\u001b[0;34m)\u001b[0m\u001b[0;34m\u001b[0m\u001b[0;34m\u001b[0m\u001b[0m\n",
      "\u001b[0;31mAssertionError\u001b[0m: Time is not unique"
     ]
    }
   ],
   "source": [
    "df_dev = _get_devices_df(df)\n",
    "rep3 = df_dev.copy()\n",
    "cor_rep3 = correct_device_rep3_ts_duplicates(rep3)\n",
    "#rep1 = _dev_rep1_to_rep2(df_dev)\n",
    "#rep3 = device_rep2_2_rep3(rep2)\n"
   ]
  },
  {
   "cell_type": "code",
   "execution_count": null,
   "metadata": {},
   "outputs": [],
   "source": [
    "#rep1\n",
    "df"
   ]
  },
  {
   "cell_type": "code",
   "execution_count": null,
   "metadata": {},
   "outputs": [],
   "source": [
    "rep2"
   ]
  },
  {
   "cell_type": "code",
   "execution_count": null,
   "metadata": {},
   "outputs": [],
   "source": [
    "rep3"
   ]
  },
  {
   "cell_type": "code",
   "execution_count": null,
   "metadata": {},
   "outputs": [],
   "source": [
    "def load(device_fp, activity_fp):\n",
    "    df_activities = _load_activities(activity_fp)\n",
    "\n",
    "    # correct overlapping activities as going to toilet is done in parallel\n",
    "    # for this dataset >:/\n",
    "    while _is_activity_overlapping(df_activities):\n",
    "        df_activities = correct_activity_overlap(df_activities)\n",
    "\n",
    "    df_dev = _load_devices(device_fp)\n",
    "    df_dev_rep1 = _dev_rep1_to_rep2(df_dev)\n",
    "    df_dev_rep2 = df_dev.copy()\n",
    "    \n",
    "    # correct possible duplicates for the devices\n",
    "    df_dev_rep1 = correct_device_ts_duplicates(df_dev_rep1)\n",
    "\n",
    "    # correct possible duplicates for representation 2\n",
    "    rep3 = device_rep2_2_rep3(df_dev_rep2)\n",
    "    cor_rep3 = correct_device_rep3_ts_duplicates(rep3)\n",
    "    df_dev_rep2 = device_rep3_2_rep2(cor_rep3)\n",
    "\n",
    "    data = Data(df_activities, df_dev_rep1)\n",
    "    data.df_dev_rep2 = df_dev_rep2\n",
    "    data.df_dev_rep3 = cor_rep3\n",
    "    return data\n"
   ]
  }
 ],
 "metadata": {
  "kernelspec": {
   "display_name": "Python 3.8.3 64-bit ('venv_pyadml': venv)",
   "language": "python",
   "name": "python38364bitvenvpyadmlvenvcf785501ed1e426497391a11756f67e3"
  },
  "language_info": {
   "codemirror_mode": {
    "name": "ipython",
    "version": 3
   },
   "file_extension": ".py",
   "mimetype": "text/x-python",
   "name": "python",
   "nbconvert_exporter": "python",
   "pygments_lexer": "ipython3",
   "version": "3.8.5"
  }
 },
 "nbformat": 4,
 "nbformat_minor": 4
}
