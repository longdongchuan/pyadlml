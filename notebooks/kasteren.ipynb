{
 "cells": [
  {
   "cell_type": "code",
   "execution_count": 2,
   "metadata": {},
   "outputs": [],
   "source": [
    "import sys\n",
    "sys.path.append(\"..\")\n",
    "\n",
    "import pyadlml.dataset.kasteren as kasteren"
   ]
  },
  {
   "cell_type": "code",
   "execution_count": 3,
   "metadata": {},
   "outputs": [],
   "source": [
    "sensorData = \"/home/chris/code/adlml/datasets/kasteren/kasterenSenseData.txt\"\n",
    "activityData = \"/home/chris/code/adlml/datasets/kasteren/kasterenActData.txt\"\n",
    "\n",
    "data = kasteren.load(sensorData, activityData)"
   ]
  },
  {
   "cell_type": "code",
   "execution_count": 4,
   "metadata": {},
   "outputs": [
    {
     "output_type": "execute_result",
     "data": {
      "text/plain": "             start_time            end_time      activities\n0   2008-02-25 19:40:26 2008-02-25 20:22:58  prepare Dinner\n1   2008-02-25 20:23:12 2008-02-25 20:23:35       get drink\n2   2008-02-25 21:51:29 2008-02-25 21:52:36      use toilet\n3   2008-02-25 23:21:15 2008-02-26 09:15:30       go to bed\n4   2008-02-25 23:28:30 2008-02-25 23:29:14      use toilet\n..                  ...                 ...             ...\n232 2008-03-21 09:42:28 2008-03-21 15:51:38     leave house\n233 2008-03-21 15:51:58 2008-03-21 15:53:10      use toilet\n234 2008-03-21 17:03:48 2008-03-21 18:05:18       go to bed\n235 2008-03-21 18:24:24 2008-03-21 18:25:05      use toilet\n236 2008-03-21 19:10:36 2008-03-23 19:04:58     leave house\n\n[237 rows x 3 columns]",
      "text/html": "<div>\n<style scoped>\n    .dataframe tbody tr th:only-of-type {\n        vertical-align: middle;\n    }\n\n    .dataframe tbody tr th {\n        vertical-align: top;\n    }\n\n    .dataframe thead th {\n        text-align: right;\n    }\n</style>\n<table border=\"1\" class=\"dataframe\">\n  <thead>\n    <tr style=\"text-align: right;\">\n      <th></th>\n      <th>start_time</th>\n      <th>end_time</th>\n      <th>activities</th>\n    </tr>\n  </thead>\n  <tbody>\n    <tr>\n      <th>0</th>\n      <td>2008-02-25 19:40:26</td>\n      <td>2008-02-25 20:22:58</td>\n      <td>prepare Dinner</td>\n    </tr>\n    <tr>\n      <th>1</th>\n      <td>2008-02-25 20:23:12</td>\n      <td>2008-02-25 20:23:35</td>\n      <td>get drink</td>\n    </tr>\n    <tr>\n      <th>2</th>\n      <td>2008-02-25 21:51:29</td>\n      <td>2008-02-25 21:52:36</td>\n      <td>use toilet</td>\n    </tr>\n    <tr>\n      <th>3</th>\n      <td>2008-02-25 23:21:15</td>\n      <td>2008-02-26 09:15:30</td>\n      <td>go to bed</td>\n    </tr>\n    <tr>\n      <th>4</th>\n      <td>2008-02-25 23:28:30</td>\n      <td>2008-02-25 23:29:14</td>\n      <td>use toilet</td>\n    </tr>\n    <tr>\n      <th>...</th>\n      <td>...</td>\n      <td>...</td>\n      <td>...</td>\n    </tr>\n    <tr>\n      <th>232</th>\n      <td>2008-03-21 09:42:28</td>\n      <td>2008-03-21 15:51:38</td>\n      <td>leave house</td>\n    </tr>\n    <tr>\n      <th>233</th>\n      <td>2008-03-21 15:51:58</td>\n      <td>2008-03-21 15:53:10</td>\n      <td>use toilet</td>\n    </tr>\n    <tr>\n      <th>234</th>\n      <td>2008-03-21 17:03:48</td>\n      <td>2008-03-21 18:05:18</td>\n      <td>go to bed</td>\n    </tr>\n    <tr>\n      <th>235</th>\n      <td>2008-03-21 18:24:24</td>\n      <td>2008-03-21 18:25:05</td>\n      <td>use toilet</td>\n    </tr>\n    <tr>\n      <th>236</th>\n      <td>2008-03-21 19:10:36</td>\n      <td>2008-03-23 19:04:58</td>\n      <td>leave house</td>\n    </tr>\n  </tbody>\n</table>\n<p>237 rows × 3 columns</p>\n</div>"
     },
     "metadata": {},
     "execution_count": 4
    }
   ],
   "source": [
    "# print the dataframe\n",
    "\n",
    "data.df_activities"
   ]
  },
  {
   "cell_type": "code",
   "execution_count": 5,
   "metadata": {},
   "outputs": [
    {
     "output_type": "execute_result",
     "data": {
      "text/plain": "              start_time            end_time  val              device\n0    2008-02-25 00:20:14 2008-02-25 00:22:57    1   Hall-Bedroom door\n1    2008-02-25 09:33:41 2008-02-25 09:33:42    1   Hall-Bedroom door\n2    2008-02-25 09:33:47 2008-02-25 17:21:12    1   Hall-Bedroom door\n3    2008-02-25 09:36:43 2008-02-25 09:37:04    1    Hall-Toilet door\n4    2008-02-25 09:37:20 2008-02-25 09:37:23    1  Hall-Bathroom door\n...                  ...                 ...  ...                 ...\n1314 2008-03-21 18:27:57 2008-03-21 18:27:58    1              Fridge\n1315 2008-03-21 18:28:00 2008-03-21 18:28:01    1              Fridge\n1316 2008-03-21 18:28:19 2008-03-21 18:28:20    1             Freezer\n1317 2008-03-21 19:11:10 2008-03-21 19:11:14    1           Frontdoor\n1318 2008-03-23 19:04:46 2008-03-23 19:04:47    1           Frontdoor\n\n[1319 rows x 4 columns]",
      "text/html": "<div>\n<style scoped>\n    .dataframe tbody tr th:only-of-type {\n        vertical-align: middle;\n    }\n\n    .dataframe tbody tr th {\n        vertical-align: top;\n    }\n\n    .dataframe thead th {\n        text-align: right;\n    }\n</style>\n<table border=\"1\" class=\"dataframe\">\n  <thead>\n    <tr style=\"text-align: right;\">\n      <th></th>\n      <th>start_time</th>\n      <th>end_time</th>\n      <th>val</th>\n      <th>device</th>\n    </tr>\n  </thead>\n  <tbody>\n    <tr>\n      <th>0</th>\n      <td>2008-02-25 00:20:14</td>\n      <td>2008-02-25 00:22:57</td>\n      <td>1</td>\n      <td>Hall-Bedroom door</td>\n    </tr>\n    <tr>\n      <th>1</th>\n      <td>2008-02-25 09:33:41</td>\n      <td>2008-02-25 09:33:42</td>\n      <td>1</td>\n      <td>Hall-Bedroom door</td>\n    </tr>\n    <tr>\n      <th>2</th>\n      <td>2008-02-25 09:33:47</td>\n      <td>2008-02-25 17:21:12</td>\n      <td>1</td>\n      <td>Hall-Bedroom door</td>\n    </tr>\n    <tr>\n      <th>3</th>\n      <td>2008-02-25 09:36:43</td>\n      <td>2008-02-25 09:37:04</td>\n      <td>1</td>\n      <td>Hall-Toilet door</td>\n    </tr>\n    <tr>\n      <th>4</th>\n      <td>2008-02-25 09:37:20</td>\n      <td>2008-02-25 09:37:23</td>\n      <td>1</td>\n      <td>Hall-Bathroom door</td>\n    </tr>\n    <tr>\n      <th>...</th>\n      <td>...</td>\n      <td>...</td>\n      <td>...</td>\n      <td>...</td>\n    </tr>\n    <tr>\n      <th>1314</th>\n      <td>2008-03-21 18:27:57</td>\n      <td>2008-03-21 18:27:58</td>\n      <td>1</td>\n      <td>Fridge</td>\n    </tr>\n    <tr>\n      <th>1315</th>\n      <td>2008-03-21 18:28:00</td>\n      <td>2008-03-21 18:28:01</td>\n      <td>1</td>\n      <td>Fridge</td>\n    </tr>\n    <tr>\n      <th>1316</th>\n      <td>2008-03-21 18:28:19</td>\n      <td>2008-03-21 18:28:20</td>\n      <td>1</td>\n      <td>Freezer</td>\n    </tr>\n    <tr>\n      <th>1317</th>\n      <td>2008-03-21 19:11:10</td>\n      <td>2008-03-21 19:11:14</td>\n      <td>1</td>\n      <td>Frontdoor</td>\n    </tr>\n    <tr>\n      <th>1318</th>\n      <td>2008-03-23 19:04:46</td>\n      <td>2008-03-23 19:04:47</td>\n      <td>1</td>\n      <td>Frontdoor</td>\n    </tr>\n  </tbody>\n</table>\n<p>1319 rows × 4 columns</p>\n</div>"
     },
     "metadata": {},
     "execution_count": 5
    }
   ],
   "source": [
    "data.df_devices"
   ]
  },
  {
   "cell_type": "code",
   "execution_count": null,
   "metadata": {},
   "outputs": [],
   "source": [
    "# creates raw data from the two dataframes\n",
    "data.create_raw()\n",
    "\n",
    "# creates sequential data from the raw dataframe\n",
    "data.createSequential()\n",
    "data.df_seq\n",
    "\n",
    "# convertes sequential data into the last fired representation\n",
    "data.conv2lastFired()\n",
    "data.df_lf\n",
    "\n",
    "# convertes sequential data into the last fired representation\n",
    "data.conv2Changed()\n",
    "data.df_ch"
   ]
  }
 ],
 "metadata": {
  "kernelspec": {
   "display_name": "Python 3.8.3 64-bit ('venv_pyadml': venv)",
   "language": "python",
   "name": "python38364bitvenvpyadmlvenvcf785501ed1e426497391a11756f67e3"
  },
  "language_info": {
   "codemirror_mode": {
    "name": "ipython",
    "version": 3
   },
   "file_extension": ".py",
   "mimetype": "text/x-python",
   "name": "python",
   "nbconvert_exporter": "python",
   "pygments_lexer": "ipython3",
   "version": "3.8.3-final"
  }
 },
 "nbformat": 4,
 "nbformat_minor": 2
}