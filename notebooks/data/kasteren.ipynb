{
 "cells": [
  {
   "cell_type": "code",
   "execution_count": 1,
   "metadata": {},
   "outputs": [],
   "source": [
    "%matplotlib inline\n",
    "# use for import local project\n",
    "import os\n",
    "import sys\n",
    "module_path = os.path.abspath(os.path.join('..'))\n",
    "if module_path not in sys.path:\n",
    "    sys.path.append(module_path)"
   ]
  },
  {
   "cell_type": "code",
   "execution_count": 2,
   "metadata": {},
   "outputs": [],
   "source": [
    "from algorithms.model import HMM_Model\n",
    "from algorithms.benchmarks.benchmark import Bench\n",
    "from algorithms.benchmarks.benchmark import Dataset\n",
    "import matplotlib.pyplot as plt"
   ]
  },
  {
   "cell_type": "code",
   "execution_count": 3,
   "metadata": {},
   "outputs": [],
   "source": [
    "hmm_model = HMM_Model()\n",
    "dk = Dataset.KASTEREN\n",
    "bench = Bench()"
   ]
  },
  {
   "cell_type": "code",
   "execution_count": 4,
   "metadata": {},
   "outputs": [
    {
     "name": "stdout",
     "output_type": "stream",
     "text": [
      "loading sensors...\n"
     ]
    }
   ],
   "source": [
    "bench.load_dataset(dk)"
   ]
  },
  {
   "cell_type": "code",
   "execution_count": 5,
   "metadata": {},
   "outputs": [],
   "source": [
    "bench.register_model(hmm_model)"
   ]
  },
  {
   "cell_type": "code",
   "execution_count": 6,
   "metadata": {},
   "outputs": [],
   "source": [
    "bench.init_model_on_dataset(dk)"
   ]
  },
  {
   "cell_type": "code",
   "execution_count": 7,
   "metadata": {},
   "outputs": [
    {
     "name": "stdout",
     "output_type": "stream",
     "text": [
      "**************************************************\n",
      "Hidden Markov Model\n",
      "__________________________________________________\n",
      "\n",
      "Pi\n",
      "           0\n",
      "1   0.030574\n",
      "4   0.164133\n",
      "5   0.010104\n",
      "10  0.186336\n",
      "13  0.252384\n",
      "15  0.216314\n",
      "17  0.140155\n",
      "\n",
      "Transition Matrix\n",
      "          1         4         5         10        13        15        17\n",
      "1   0.066769  0.185930  0.382769  0.001483  0.059588  0.201471  0.101990\n",
      "4   0.034362  0.142891  0.319885  0.046091  0.081826  0.358503  0.016442\n",
      "5   0.135311  0.028244  0.223256  0.186248  0.312963  0.052892  0.061086\n",
      "10  0.029497  0.211043  0.093240  0.199607  0.274989  0.016825  0.174799\n",
      "13  0.225899  0.083826  0.224326  0.171997  0.154084  0.111785  0.028083\n",
      "15  0.101327  0.141266  0.071443  0.083450  0.204159  0.156656  0.241700\n",
      "17  0.114737  0.226783  0.227841  0.086053  0.052288  0.084823  0.207475\n",
      "\n",
      "Emission Matrix\n",
      "          0         1         2         3         4         5         6   \\\n",
      "1   0.048618  0.044663  0.004032  0.042115  0.019570  0.039361  0.006016   \n",
      "4   0.011201  0.047919  0.012533  0.036960  0.011450  0.067892  0.050180   \n",
      "5   0.056850  0.017511  0.049874  0.053128  0.033315  0.034231  0.022948   \n",
      "10  0.009507  0.056351  0.057856  0.061369  0.062112  0.019862  0.035678   \n",
      "13  0.046638  0.015147  0.048800  0.028607  0.000220  0.075903  0.014309   \n",
      "15  0.033510  0.055820  0.008531  0.056609  0.047519  0.030029  0.037058   \n",
      "17  0.048295  0.033330  0.004619  0.050868  0.065326  0.036061  0.034151   \n",
      "\n",
      "          7         8         9     ...           18        19        20  \\\n",
      "1   0.035326  0.008856  0.011211    ...     0.033887  0.039352  0.053270   \n",
      "4   0.056911  0.018429  0.029153    ...     0.038977  0.046240  0.056785   \n",
      "5   0.052840  0.032193  0.048781    ...     0.007045  0.020781  0.004636   \n",
      "10  0.003862  0.016031  0.011340    ...     0.031224  0.022620  0.051626   \n",
      "13  0.019623  0.014763  0.065586    ...     0.015155  0.070971  0.050639   \n",
      "15  0.005870  0.006545  0.045538    ...     0.069137  0.060805  0.006588   \n",
      "17  0.036420  0.061890  0.057787    ...     0.031308  0.024886  0.041976   \n",
      "\n",
      "          21        22        23        24        25        26        27  \n",
      "1   0.021504  0.038701  0.046396  0.065452  0.023581  0.057459  0.020008  \n",
      "4   0.068252  0.030440  0.050690  0.044612  0.055185  0.035931  0.060228  \n",
      "5   0.022700  0.050108  0.001355  0.040496  0.056698  0.035570  0.055892  \n",
      "10  0.014912  0.069456  0.031611  0.039732  0.017027  0.007529  0.016403  \n",
      "13  0.022098  0.018881  0.063062  0.058761  0.020898  0.018660  0.030488  \n",
      "15  0.030947  0.046015  0.043758  0.050312  0.010129  0.020018  0.011312  \n",
      "17  0.013339  0.062248  0.007693  0.056730  0.004587  0.044641  0.014400  \n",
      "\n",
      "[7 rows x 28 columns]\n",
      "\n",
      "**************************************************\n",
      "\n"
     ]
    }
   ],
   "source": [
    "print(bench._model)"
   ]
  },
  {
   "cell_type": "code",
   "execution_count": 8,
   "metadata": {},
   "outputs": [],
   "source": [
    "#bench._model.draw()"
   ]
  },
  {
   "cell_type": "code",
   "execution_count": 9,
   "metadata": {},
   "outputs": [
    {
     "data": {
      "image/png": "[encoded data removed]",
      "text/plain": [
       "<Figure size 576x360 with 1 Axes>"
      ]
     },
     "metadata": {
      "needs_background": "light"
     },
     "output_type": "display_data"
    }
   ],
   "source": [
    "plt.figure(figsize=(8,5))\n",
    "bench.train_model(dk)"
   ]
  },
  {
   "cell_type": "code",
   "execution_count": 10,
   "metadata": {},
   "outputs": [
    {
     "name": "stdout",
     "output_type": "stream",
     "text": [
      "Report\n",
      "____________________________________________________________________________________________________\n",
      "Start\tP( X|Theta ) = 3.54933496555e-19\n",
      "Trained\tP( X|Theta ) = 9.53674316406e-07\n",
      "____________________________________________________________________________________________________\n",
      "Metric on test dataset:\n",
      "\tAccuracy: \ttodo\n",
      "\tPrecision: \ttodo\n",
      "\tRecall: \ttodo\n",
      "****************************************************************************************************\n"
     ]
    }
   ],
   "source": [
    "print(bench.create_report())\n"
   ]
  },
  {
   "cell_type": "code",
   "execution_count": 11,
   "metadata": {},
   "outputs": [
    {
     "name": "stdout",
     "output_type": "stream",
     "text": [
      "**************************************************\n",
      "Hidden Markov Model\n",
      "__________________________________________________\n",
      "\n",
      "Pi\n",
      "      0\n",
      "1   0.0\n",
      "4   0.0\n",
      "5   0.0\n",
      "10  0.0\n",
      "13  0.0\n",
      "15  1.0\n",
      "17  0.0\n",
      "\n",
      "Transition Matrix\n",
      "          1     4    5    10        13   15    17\n",
      "1   0.000000  0.00  1.0  0.0  0.000000  0.0  0.00\n",
      "4   0.000000  0.00  0.0  0.0  0.000000  1.0  0.00\n",
      "5   0.333333  0.00  0.0  0.0  0.666667  0.0  0.00\n",
      "10  0.500000  0.50  0.0  0.0  0.000000  0.0  0.00\n",
      "13  0.000000  0.00  0.0  1.0  0.000000  0.0  0.00\n",
      "15  0.000000  0.75  0.0  0.0  0.000000  0.0  0.25\n",
      "17  0.000000  0.00  1.0  0.0  0.000000  0.0  0.00\n",
      "\n",
      "Emission Matrix\n",
      "     0    1    2    3    4    5    6    7    8    9  ...    18   19   20   21  \\\n",
      "1   0.0  0.0  0.0  0.0  0.0  0.0  0.0  0.0  0.0  0.0 ...   0.0  0.0  0.0  0.0   \n",
      "4   0.0  0.0  0.0  0.0  0.0  0.0  0.0  0.0  0.0  0.0 ...   0.0  0.0  0.0  0.0   \n",
      "5   0.0  0.0  0.0  0.0  0.0  0.0  0.0  0.0  0.0  0.0 ...   0.0  0.0  0.0  0.0   \n",
      "10  0.0  0.0  0.0  0.0  0.0  0.0  0.0  0.0  0.0  0.0 ...   0.0  0.0  0.0  0.0   \n",
      "13  0.0  0.0  0.0  0.0  0.0  0.0  0.0  0.0  0.0  0.0 ...   0.0  0.0  0.0  0.0   \n",
      "15  0.0  0.0  0.0  0.0  0.0  0.0  0.0  0.0  0.0  0.0 ...   0.0  0.0  0.0  0.0   \n",
      "17  0.0  0.0  0.0  0.0  0.0  0.0  0.0  0.0  0.0  0.0 ...   0.0  0.0  0.0  0.0   \n",
      "\n",
      "      22   23   24        25   26   27  \n",
      "1   0.00  0.0  1.0  0.000000  0.0  0.0  \n",
      "4   0.00  0.5  0.0  0.000000  0.0  0.0  \n",
      "5   0.00  0.0  0.0  0.666667  0.0  0.0  \n",
      "10  0.00  0.0  0.0  0.000000  0.0  0.0  \n",
      "13  0.00  0.0  0.0  0.000000  0.0  0.0  \n",
      "15  0.25  0.0  0.0  0.000000  0.0  0.0  \n",
      "17  0.00  0.0  0.0  0.000000  0.0  0.0  \n",
      "\n",
      "[7 rows x 28 columns]\n",
      "\n",
      "**************************************************\n",
      "\n"
     ]
    }
   ],
   "source": [
    "print(bench._model)"
   ]
  }
 ],
 "metadata": {
  "kernelspec": {
   "display_name": "Python 3",
   "language": "python",
   "name": "python3"
  },
  "language_info": {
   "codemirror_mode": {
    "name": "ipython",
    "version": 3
   },
   "file_extension": ".py",
   "mimetype": "text/x-python",
   "name": "python",
   "nbconvert_exporter": "python",
   "pygments_lexer": "ipython3",
   "version": "3.6.7"
  }
 },
 "nbformat": 4,
 "nbformat_minor": 2
}
