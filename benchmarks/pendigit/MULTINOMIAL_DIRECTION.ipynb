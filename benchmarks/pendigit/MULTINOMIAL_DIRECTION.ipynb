{
 "cells": [
  {
   "cell_type": "code",
   "execution_count": 1,
   "metadata": {
    "collapsed": true
   },
   "outputs": [],
   "source": [
    "# imports\n",
    "%matplotlib inline\n",
    "%load_ext autoreload\n",
    "%autoreload 2\n",
    "import warnings\n",
    "warnings.filterwarnings('ignore')\n",
    "import numpy as np\n",
    "from loadUniPenData import loadUnipenData\n",
    "from plotting import plotUniPenData\n",
    "from normalize import normalize_example"
   ]
  },
  {
   "cell_type": "code",
   "execution_count": 2,
   "metadata": {
    "collapsed": false
   },
   "outputs": [
    {
     "data": {
      "image/png": "[encoded data removed]",
      "text/plain": [
       "<matplotlib.figure.Figure at 0x107faf3d0>"
      ]
     },
     "metadata": {},
     "output_type": "display_data"
    }
   ],
   "source": [
    "# Load Unipen Data and labels\n",
    "data, labels = loadUnipenData('../data/pendigits-orig.tra')\n",
    "\n",
    "# Normalize data within each digit drawing\n",
    "# And plot an example\n",
    "# Tdata is the data without PenUp and PenDown\n",
    "data, tdata = normalize_example(data)\n",
    "plotUniPenData(data[8])"
   ]
  },
  {
   "cell_type": "code",
   "execution_count": 3,
   "metadata": {
    "collapsed": false
   },
   "outputs": [],
   "source": [
    "from math import atan2, pi, ceil\n",
    "\n",
    "def encode_direction(raw_data):\n",
    "    enc_data = []\n",
    "    lengths = []\n",
    "    for example in raw_data:\n",
    "        sq = []\n",
    "        for point in example:\n",
    "            x = point[0]\n",
    "            y = point[1]\n",
    "            if x == -1 and y == 1:\n",
    "                sq.append([8])\n",
    "                xp = float('inf')\n",
    "            elif x == -1 and y == -1:\n",
    "                sq.append([9])\n",
    "                xp = float('inf')\n",
    "            else:\n",
    "                if xp != float('inf'):\n",
    "                    dx = xp - x\n",
    "                    dy = yp - y \n",
    "                    direction = (int(ceil(atan2(dy, dx) / (2 * pi / 8))) + 8) % 8\n",
    "                    sq.append([direction])\n",
    "                xp = x\n",
    "                yp = y\n",
    "        enc_data.extend(sq)\n",
    "        lengths.append(len(sq))\n",
    "    return enc_data, lengths\n",
    "\n",
    "def encode_direction_ex(example):\n",
    "    sq = []\n",
    "    for point in example:\n",
    "        x = point[0]\n",
    "        y = point[1]\n",
    "        if x == -1 and y == 1:\n",
    "            sq.append([8])\n",
    "            xp = float('inf')\n",
    "        elif x == -1 and y == -1:\n",
    "            sq.append([9])\n",
    "            xp = float('inf')\n",
    "        else:\n",
    "            if xp != float('inf'):\n",
    "                dx = xp - x\n",
    "                dy = yp - y \n",
    "                direction = (int(ceil(atan2(dy, dx) / (2 * pi / 8))) + 8) % 8\n",
    "                sq.append([direction])\n",
    "            xp = x\n",
    "            yp = y\n",
    "    return sq\n",
    "    "
   ]
  },
  {
   "cell_type": "code",
   "execution_count": 8,
   "metadata": {
    "collapsed": false
   },
   "outputs": [
    {
     "name": "stdout",
     "output_type": "stream",
     "text": [
      "Class 0\n"
     ]
    },
    {
     "name": "stderr",
     "output_type": "stream",
     "text": [
      "         1      -61905.0881             +nan\n",
      "         2      -57955.9348       +3949.1533\n",
      "         3      -57245.8832        +710.0516\n",
      "         4      -56040.9910       +1204.8922\n",
      "         5      -53487.1168       +2553.8743\n",
      "         6      -48338.3434       +5148.7734\n",
      "         7      -42512.4724       +5825.8709\n",
      "         8      -36925.6813       +5586.7912\n",
      "         9      -31488.0230       +5437.6582\n",
      "        10      -27722.5620       +3765.4610\n",
      "        11      -25937.2677       +1785.2943\n",
      "        12      -25000.2828        +936.9849\n",
      "        13      -24528.2724        +472.0104\n",
      "        14      -24266.3842        +261.8882\n",
      "        15      -24091.5053        +174.8789\n",
      "        16      -23962.4704        +129.0349\n",
      "        17      -23874.5896         +87.8808\n"
     ]
    },
    {
     "name": "stdout",
     "output_type": "stream",
     "text": [
      "Class 1\n"
     ]
    },
    {
     "name": "stderr",
     "output_type": "stream",
     "text": [
      "         1      -66048.3330             +nan\n",
      "         2      -52864.8642      +13183.4688\n",
      "         3      -52313.4832        +551.3810\n",
      "         4      -51221.9387       +1091.5446\n",
      "         5      -48727.2856       +2494.6530\n",
      "         6      -43649.9068       +5077.3789\n",
      "         7      -38467.6186       +5182.2882\n",
      "         8      -36369.0503       +2098.5682\n",
      "         9      -35297.5711       +1071.4792\n",
      "        10      -34375.0232        +922.5479\n",
      "        11      -33241.8194       +1133.2038\n",
      "        12      -32010.2526       +1231.5668\n",
      "        13      -31215.8423        +794.4102\n",
      "        14      -30652.6481        +563.1942\n",
      "        15      -30289.9631        +362.6850\n",
      "        16      -30035.2638        +254.6993\n",
      "        17      -29859.4344        +175.8294\n",
      "        18      -29700.4454        +158.9890\n",
      "        19      -29507.2426        +193.2028\n",
      "        20      -29255.0099        +252.2326\n"
     ]
    },
    {
     "name": "stdout",
     "output_type": "stream",
     "text": [
      "Class 2\n"
     ]
    },
    {
     "name": "stderr",
     "output_type": "stream",
     "text": [
      "         1      -73701.6453             +nan\n",
      "         2      -62802.6841      +10898.9612\n",
      "         3      -61702.6777       +1100.0063\n",
      "         4      -59018.2446       +2684.4331\n",
      "         5      -53109.6402       +5908.6044\n",
      "         6      -45887.3876       +7222.2526\n",
      "         7      -41036.9154       +4850.4722\n",
      "         8      -37946.6335       +3090.2819\n",
      "         9      -35466.5295       +2480.1040\n",
      "        10      -33115.7706       +2350.7589\n",
      "        11      -31577.5768       +1538.1938\n",
      "        12      -30754.7678        +822.8090\n",
      "        13      -30358.6877        +396.0801\n",
      "        14      -30122.6917        +235.9959\n",
      "        15      -29891.9633        +230.7285\n",
      "        16      -29617.9089        +274.0544\n",
      "        17      -29307.3855        +310.5233\n",
      "        18      -28982.6488        +324.7368\n",
      "        19      -28656.1405        +326.5083\n",
      "        20      -28351.5880        +304.5525\n"
     ]
    },
    {
     "name": "stdout",
     "output_type": "stream",
     "text": [
      "Class 3\n"
     ]
    },
    {
     "name": "stderr",
     "output_type": "stream",
     "text": [
      "         1      -78868.0246             +nan\n",
      "         2      -63140.3648      +15727.6598\n",
      "         3      -61618.3919       +1521.9729\n",
      "         4      -59135.6680       +2482.7239\n",
      "         5      -54575.2376       +4560.4304\n",
      "         6      -46854.4731       +7720.7646\n",
      "         7      -39141.7208       +7712.7523\n",
      "         8      -34098.4521       +5043.2687\n",
      "         9      -31469.7233       +2628.7288\n",
      "        10      -30153.4024       +1316.3209\n",
      "        11      -29429.6393        +723.7631\n",
      "        12      -28976.1697        +453.4697\n",
      "        13      -28683.3677        +292.8020\n",
      "        14      -28491.5976        +191.7701\n",
      "        15      -28361.1554        +130.4421\n",
      "        16      -28262.0042         +99.1513\n"
     ]
    },
    {
     "name": "stdout",
     "output_type": "stream",
     "text": [
      "Class 4\n"
     ]
    },
    {
     "name": "stderr",
     "output_type": "stream",
     "text": [
      "         1      -78011.3541             +nan\n",
      "         2      -64828.5148      +13182.8393\n",
      "         3      -63835.8052        +992.7096\n",
      "         4      -61389.6450       +2446.1602\n",
      "         5      -56993.6897       +4395.9553\n",
      "         6      -52406.6297       +4587.0600\n",
      "         7      -48352.7880       +4053.8417\n",
      "         8      -44497.9101       +3854.8779\n",
      "         9      -42040.8102       +2457.0998\n",
      "        10      -40446.6216       +1594.1887\n",
      "        11      -39387.8447       +1058.7769\n",
      "        12      -38940.7920        +447.0527\n",
      "        13      -38724.0351        +216.7568\n",
      "        14      -38587.3902        +136.6450\n",
      "        15      -38475.4611        +111.9291\n",
      "        16      -38361.4022        +114.0589\n",
      "        17      -38228.8705        +132.5317\n",
      "        18      -38068.0411        +160.8294\n",
      "        19      -37875.3150        +192.7261\n",
      "        20      -37644.8918        +230.4233\n"
     ]
    },
    {
     "name": "stdout",
     "output_type": "stream",
     "text": [
      "Class 5\n"
     ]
    },
    {
     "name": "stderr",
     "output_type": "stream",
     "text": [
      "         1      -81482.3132             +nan\n",
      "         2      -70939.1639      +10543.1493\n",
      "         3      -69554.2526       +1384.9113\n",
      "         4      -66219.1481       +3335.1045\n",
      "         5      -61416.7026       +4802.4455\n",
      "         6      -56966.3172       +4450.3854\n",
      "         7      -53032.9018       +3933.4154\n",
      "         8      -49017.4547       +4015.4472\n",
      "         9      -44440.0979       +4577.3567\n",
      "        10      -40460.8951       +3979.2028\n",
      "        11      -38362.3320       +2098.5631\n",
      "        12      -36977.5291       +1384.8030\n",
      "        13      -35889.9272       +1087.6018\n",
      "        14      -35463.4171        +426.5101\n",
      "        15      -35334.6255        +128.7916\n",
      "        16      -35281.9289         +52.6966\n"
     ]
    },
    {
     "name": "stdout",
     "output_type": "stream",
     "text": [
      "Class 6\n"
     ]
    },
    {
     "name": "stderr",
     "output_type": "stream",
     "text": [
      "         1      -57207.7347             +nan\n",
      "         2      -50160.8414       +7046.8933\n",
      "         3      -49703.2602        +457.5812\n",
      "         4      -48786.5043        +916.7558\n",
      "         5      -46755.1093       +2031.3950\n",
      "         6      -41898.6794       +4856.4300\n",
      "         7      -33813.9488       +8084.7305\n",
      "         8      -28018.6578       +5795.2911\n",
      "         9      -25779.4249       +2239.2328\n",
      "        10      -24784.8038        +994.6211\n",
      "        11      -24273.3139        +511.4899\n",
      "        12      -23928.4429        +344.8710\n",
      "        13      -23657.9423        +270.5006\n",
      "        14      -23385.0967        +272.8456\n",
      "        15      -23031.1334        +353.9633\n",
      "        16      -22605.9104        +425.2230\n",
      "        17      -22194.7768        +411.1336\n",
      "        18      -21808.3559        +386.4209\n",
      "        19      -21428.2429        +380.1130\n",
      "        20      -21112.6585        +315.5844\n"
     ]
    },
    {
     "name": "stdout",
     "output_type": "stream",
     "text": [
      "Class 7\n"
     ]
    },
    {
     "name": "stderr",
     "output_type": "stream",
     "text": [
      "         1      -74892.1852             +nan\n",
      "         2      -64389.0328      +10503.1524\n",
      "         3      -62782.1064       +1606.9263\n",
      "         4      -58883.1139       +3898.9925\n",
      "         5      -53370.6506       +5512.4634\n",
      "         6      -47762.3593       +5608.2913\n",
      "         7      -43131.9401       +4630.4192\n",
      "         8      -39008.7531       +4123.1870\n",
      "         9      -36159.0004       +2849.7527\n",
      "        10      -34410.6539       +1748.3465\n",
      "        11      -33328.4893       +1082.1646\n",
      "        12      -32657.3820        +671.1072\n",
      "        13      -32266.6581        +390.7240\n",
      "        14      -32037.0080        +229.6501\n",
      "        15      -31891.5495        +145.4585\n",
      "        16      -31782.7443        +108.8051\n",
      "        17      -31695.0279         +87.7164\n"
     ]
    },
    {
     "name": "stdout",
     "output_type": "stream",
     "text": [
      "Class 8\n"
     ]
    },
    {
     "name": "stderr",
     "output_type": "stream",
     "text": [
      "         1      -78158.6009             +nan\n",
      "         2      -70537.2514       +7621.3495\n",
      "         3      -69745.8210        +791.4304\n",
      "         4      -68107.8113       +1638.0098\n",
      "         5      -65084.4667       +3023.3445\n",
      "         6      -59802.1468       +5282.3199\n",
      "         7      -54002.3376       +5799.8092\n",
      "         8      -48403.2656       +5599.0720\n",
      "         9      -42919.1791       +5484.0865\n",
      "        10      -39817.2337       +3101.9454\n",
      "        11      -38251.3374       +1565.8962\n",
      "        12      -37327.5350        +923.8024\n",
      "        13      -36717.8208        +609.7142\n",
      "        14      -36152.9219        +564.8990\n",
      "        15      -35551.9471        +600.9747\n",
      "        16      -34989.8756        +562.0716\n",
      "        17      -34498.0780        +491.7976\n",
      "        18      -34087.4664        +410.6116\n",
      "        19      -33784.1775        +303.2889\n",
      "        20      -33587.1248        +197.0527\n"
     ]
    },
    {
     "name": "stdout",
     "output_type": "stream",
     "text": [
      "Class 9\n"
     ]
    },
    {
     "name": "stderr",
     "output_type": "stream",
     "text": [
      "         1      -81576.2847             +nan\n",
      "         2      -71919.0729       +9657.2118\n",
      "         3      -71112.5274        +806.5454\n",
      "         4      -69858.4848       +1254.0426\n",
      "         5      -67257.5646       +2600.9202\n",
      "         6      -61783.0957       +5474.4689\n",
      "         7      -54532.4246       +7250.6711\n",
      "         8      -49224.6288       +5307.7958\n",
      "         9      -46842.3663       +2382.2625\n",
      "        10      -45540.8131       +1301.5532\n",
      "        11      -44307.3358       +1233.4773\n",
      "        12      -42854.3091       +1453.0268\n",
      "        13      -40454.8146       +2399.4944\n",
      "        14      -38457.1575       +1997.6571\n",
      "        15      -37548.6920        +908.4655\n",
      "        16      -36788.7074        +759.9846\n",
      "        17      -35873.4412        +915.2662\n",
      "        18      -35071.0502        +802.3910\n",
      "        19      -34621.7192        +449.3310\n",
      "        20      -34409.1358        +212.5834\n"
     ]
    }
   ],
   "source": [
    "from hmmlearn.hmm import MultinomialHMM\n",
    "\n",
    "def train(data, labels):\n",
    "    models = {}\n",
    "    labels = np.array(labels)\n",
    "    for i in range(10):\n",
    "        print \"Class\", i\n",
    "        ind = np.where(labels == i)\n",
    "        digit_data = np.array(data)[ind]\n",
    "        enc_data, lengths = encode_direction(digit_data)\n",
    "        \n",
    "        model = MultinomialHMM(n_components=10,\n",
    "                                   n_iter=20,\n",
    "                                   tol=100,\n",
    "                                   verbose=True,\n",
    "                                   params='ste',\n",
    "                                   init_params='e')\n",
    "        \n",
    "        init = 1. / 10\n",
    "        model.startprob_ = np.full(10, init)\n",
    "        model.transmat_ = np.full((10, 10), init)\n",
    "        model.fit(enc_data, lengths)\n",
    "        models[i] = model\n",
    "    return models\n",
    "\n",
    "models = train(data, labels)"
   ]
  },
  {
   "cell_type": "code",
   "execution_count": 9,
   "metadata": {
    "collapsed": false
   },
   "outputs": [
    {
     "name": "stdout",
     "output_type": "stream",
     "text": [
      "0.756718124643\n"
     ]
    }
   ],
   "source": [
    "test, test_labels = loadUnipenData('pendigits-orig.tes')\n",
    "test_data, ptest_data = normalize_example(test)\n",
    "\n",
    "\n",
    "plabels = []\n",
    "for j in range(len(test_data)):\n",
    "    llks = np.zeros(10)\n",
    "    enc_data = np.atleast_2d(encode_direction_ex(test_data[j]))\n",
    "    for i in range(10):\n",
    "        llks[i] = models[i].score(enc_data)\n",
    "    plabels.append(np.argmax(llks))\n",
    "\n",
    "\n",
    "print float(np.sum(np.array(plabels) == np.array(test_labels))) / len(plabels)"
   ]
  }
 ],
 "metadata": {
  "kernelspec": {
   "display_name": "Python 2",
   "language": "python",
   "name": "python2"
  },
  "language_info": {
   "codemirror_mode": {
    "name": "ipython",
    "version": 2
   },
   "file_extension": ".py",
   "mimetype": "text/x-python",
   "name": "python",
   "nbconvert_exporter": "python",
   "pygments_lexer": "ipython2",
   "version": "2.7.10"
  }
 },
 "nbformat": 4,
 "nbformat_minor": 0
}
