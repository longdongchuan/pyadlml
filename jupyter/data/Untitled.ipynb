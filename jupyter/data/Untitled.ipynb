{
 "cells": [
  {
   "cell_type": "code",
   "execution_count": 1,
   "metadata": {},
   "outputs": [
    {
     "name": "stdout",
     "output_type": "stream",
     "text": [
      "asdf\n"
     ]
    }
   ],
   "source": [
    "print('asdf')"
   ]
  },
  {
   "cell_type": "markdown",
   "metadata": {},
   "source": [
    "## This is not a text"
   ]
  },
  {
   "cell_type": "code",
   "execution_count": 3,
   "metadata": {},
   "outputs": [
    {
     "name": "stdout",
     "output_type": "stream",
     "text": [
      "Collecting pomegranate\n",
      "\u001b[?25l  Downloading https://files.pythonhosted.org/packages/65/f3/67c677b29b5c6d1a42c1838554948c77bbdf23555956dc5d706cc385f367/pomegranate-0.10.0-cp36-cp36m-manylinux1_x86_64.whl (5.1MB)\n",
      "\u001b[K    100% |████████████████████████████████| 5.2MB 1.3MB/s ta 0:00:011\n",
      "\u001b[?25hCollecting joblib>=0.9.0b4 (from pomegranate)\n",
      "\u001b[?25l  Downloading https://files.pythonhosted.org/packages/cd/c1/50a758e8247561e58cb87305b1e90b171b8c767b15b12a1734001f41d356/joblib-0.13.2-py2.py3-none-any.whl (278kB)\n",
      "\u001b[K    100% |████████████████████████████████| 286kB 1.4MB/s ta 0:00:01\n",
      "\u001b[?25hCollecting networkx<2.0,>=1.8.1 (from pomegranate)\n",
      "\u001b[?25l  Downloading https://files.pythonhosted.org/packages/d3/2c/e473e54afc9fae58dfa97066ef6709a7e35a1dd1c28c5a3842989322be00/networkx-1.11-py2.py3-none-any.whl (1.3MB)\n",
      "\u001b[K    100% |████████████████████████████████| 1.3MB 1.3MB/s ta 0:00:01\n",
      "\u001b[?25hRequirement already satisfied: scipy>=0.17.0 in /opt/conda/lib/python3.6/site-packages (from pomegranate) (1.1.0)\n",
      "Requirement already satisfied: pyyaml in /opt/conda/lib/python3.6/site-packages (from pomegranate) (3.13)\n",
      "Requirement already satisfied: numpy>=1.8.0 in /opt/conda/lib/python3.6/site-packages (from pomegranate) (1.13.3)\n",
      "Requirement already satisfied: decorator>=3.4.0 in /opt/conda/lib/python3.6/site-packages (from networkx<2.0,>=1.8.1->pomegranate) (4.3.0)\n",
      "Installing collected packages: joblib, networkx, pomegranate\n",
      "  Found existing installation: networkx 2.2\n",
      "    Uninstalling networkx-2.2:\n",
      "      Successfully uninstalled networkx-2.2\n",
      "Successfully installed joblib-0.13.2 networkx-1.11 pomegranate-0.10.0\n"
     ]
    }
   ],
   "source": [
    "# Install a pip package in the current Jupyter kernel\n",
    "import sys\n",
    "!{sys.executable} -m pip install pomegranate"
   ]
  },
  {
   "cell_type": "code",
   "execution_count": 3,
   "metadata": {},
   "outputs": [],
   "source": [
    "from pomegranate import *"
   ]
  },
  {
   "cell_type": "code",
   "execution_count": null,
   "metadata": {},
   "outputs": [],
   "source": [
    "ss"
   ]
  },
  {
   "cell_type": "code",
   "execution_count": 5,
   "metadata": {},
   "outputs": [],
   "source": [
    "s1 = State(NormalDistribution(5, 1))\n",
    "s2 = State(NormalDistribution(1, 7))\n",
    "s3 = State(NormalDistribution(8, 2))\n",
    "model = HiddenMarkovModel()\n",
    "model.add_states(s1, s2, s3)\n",
    "model.add_transition(model.start, s1, 1.0)\n",
    "model.add_transition(s1, s1, 0.7)\n",
    "model.add_transition(s1, s2, 0.3)\n",
    "model.add_transition(s2, s2, 0.8)\n",
    "model.add_transition(s2, s3, 0.2)\n",
    "model.add_transition(s3, s3, 0.9)\n",
    "model.add_transition(s3, model.end, 0.1)\n",
    "model.bake()"
   ]
  },
  {
   "cell_type": "code",
   "execution_count": null,
   "metadata": {},
   "outputs": [],
   "source": []
  }
 ],
 "metadata": {
  "kernelspec": {
   "display_name": "Python 3",
   "language": "python",
   "name": "python3"
  },
  "language_info": {
   "codemirror_mode": {
    "name": "ipython",
    "version": 3
   },
   "file_extension": ".py",
   "mimetype": "text/x-python",
   "name": "python",
   "nbconvert_exporter": "python",
   "pygments_lexer": "ipython3",
   "version": "3.6.7"
  }
 },
 "nbformat": 4,
 "nbformat_minor": 2
}
